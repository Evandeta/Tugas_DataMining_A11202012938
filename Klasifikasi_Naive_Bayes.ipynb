{
  "nbformat": 4,
  "nbformat_minor": 0,
  "metadata": {
    "colab": {
      "provenance": [],
      "authorship_tag": "ABX9TyO+VJo8xxCoiVgijLCghQ+L",
      "include_colab_link": true
    },
    "kernelspec": {
      "name": "python3",
      "display_name": "Python 3"
    },
    "language_info": {
      "name": "python"
    }
  },
  "cells": [
    {
      "cell_type": "markdown",
      "metadata": {
        "id": "view-in-github",
        "colab_type": "text"
      },
      "source": [
        "<a href=\"https://colab.research.google.com/github/Evandeta/Tugas_DataMining_A11202012938/blob/main/Klasifikasi_Naive_Bayes.ipynb\" target=\"_parent\"><img src=\"https://colab.research.google.com/assets/colab-badge.svg\" alt=\"Open In Colab\"/></a>"
      ]
    },
    {
      "cell_type": "code",
      "execution_count": 95,
      "metadata": {
        "id": "Wkyh6E2NPsXq"
      },
      "outputs": [],
      "source": [
        "import numpy as np\n",
        "import matplotlib.pyplot as plt\n",
        "import pandas as pd"
      ]
    },
    {
      "cell_type": "code",
      "source": [
        "dataset = pd.read_csv(\"/content/diabetes.csv\")\n",
        "x = dataset.iloc[:, [2,3]].values\n",
        "y = dataset.iloc[:, -1].values"
      ],
      "metadata": {
        "id": "eQGn9s8sRheI"
      },
      "execution_count": 96,
      "outputs": []
    },
    {
      "cell_type": "code",
      "source": [
        "print(x)"
      ],
      "metadata": {
        "colab": {
          "base_uri": "https://localhost:8080/"
        },
        "id": "C-qjuvHKhP0B",
        "outputId": "1edad15e-8f34-4516-bca4-2aa841cc9261"
      },
      "execution_count": 97,
      "outputs": [
        {
          "output_type": "stream",
          "name": "stdout",
          "text": [
            "[[72 35]\n",
            " [66 29]\n",
            " [64  0]\n",
            " ...\n",
            " [72 23]\n",
            " [60  0]\n",
            " [70 31]]\n"
          ]
        }
      ]
    },
    {
      "cell_type": "code",
      "source": [
        "print(y)"
      ],
      "metadata": {
        "colab": {
          "base_uri": "https://localhost:8080/"
        },
        "id": "__oH3JTghTDZ",
        "outputId": "7cf661ae-994e-48c1-8633-a1f7a22b3297"
      },
      "execution_count": 98,
      "outputs": [
        {
          "output_type": "stream",
          "name": "stdout",
          "text": [
            "[1 0 1 0 1 0 1 0 1 1 0 1 0 1 1 1 1 1 0 1 0 0 1 1 1 1 1 0 0 0 0 1 0 0 0 0 0\n",
            " 1 1 1 0 0 0 1 0 1 0 0 1 0 0 0 0 1 0 0 1 0 0 0 0 1 0 0 1 0 1 0 0 0 1 0 1 0\n",
            " 0 0 0 0 1 0 0 0 0 0 1 0 0 0 1 0 0 0 0 1 0 0 0 0 0 1 1 0 0 0 0 0 0 0 0 1 1\n",
            " 1 0 0 1 1 1 0 0 0 1 0 0 0 1 1 0 0 1 1 1 1 1 0 0 0 0 0 0 0 0 0 0 1 0 0 0 0\n",
            " 0 0 0 0 1 0 1 1 0 0 0 1 0 0 0 0 1 1 0 0 0 0 1 1 0 0 0 1 0 1 0 1 0 0 0 0 0\n",
            " 1 1 1 1 1 0 0 1 1 0 1 0 1 1 1 0 0 0 0 0 0 1 1 0 1 0 0 0 1 1 1 1 0 1 1 1 1\n",
            " 0 0 0 0 0 1 0 0 1 1 0 0 0 1 1 1 1 0 0 0 1 1 0 1 0 0 0 0 0 0 0 0 1 1 0 0 0\n",
            " 1 0 1 0 0 1 0 1 0 0 1 1 0 0 0 0 0 1 0 0 0 1 0 0 1 1 0 0 1 0 0 0 1 1 1 0 0\n",
            " 1 0 1 0 1 1 0 1 0 0 1 0 1 1 0 0 1 0 1 0 0 1 0 1 0 1 1 1 0 0 1 0 1 0 0 0 1\n",
            " 0 0 0 0 1 1 1 0 0 0 0 0 0 0 0 0 1 0 0 0 0 0 1 1 1 0 1 1 0 0 1 0 0 1 0 0 1\n",
            " 1 0 0 0 0 1 0 0 1 0 0 0 0 0 0 0 1 1 1 0 0 1 0 0 1 0 0 1 0 1 1 0 1 0 1 0 1\n",
            " 0 1 1 0 0 0 0 1 1 0 1 0 1 0 0 0 0 1 1 0 1 0 1 0 0 0 0 0 1 0 0 0 0 1 0 0 1\n",
            " 1 1 0 0 1 0 0 1 0 0 0 1 0 0 1 0 0 0 0 0 0 0 0 0 1 0 0 0 0 0 0 0 1 0 0 0 1\n",
            " 0 0 0 1 1 0 0 0 0 0 0 0 1 0 0 0 0 1 0 0 0 1 0 0 0 1 0 0 0 1 0 0 0 0 1 1 0\n",
            " 0 0 0 0 0 1 0 0 0 0 0 0 0 0 0 0 0 1 0 0 0 1 1 1 1 0 0 1 1 0 0 0 0 0 0 0 0\n",
            " 0 0 0 0 0 1 1 0 0 0 0 0 0 0 1 0 0 0 0 0 0 0 1 0 1 1 0 0 0 1 0 1 0 1 0 1 0\n",
            " 1 0 0 1 0 0 1 0 0 0 0 1 1 0 1 0 0 0 0 1 1 0 1 0 0 0 1 1 0 0 0 0 0 0 0 0 0\n",
            " 0 1 0 0 0 0 1 0 0 1 0 0 0 1 0 0 0 1 1 1 0 0 0 0 0 0 1 0 0 0 1 0 1 1 1 1 0\n",
            " 1 1 0 0 0 0 0 0 0 1 1 0 1 0 0 1 0 1 0 0 0 0 0 1 0 1 0 1 0 1 1 0 0 0 0 1 1\n",
            " 0 0 0 1 0 1 1 0 0 1 0 0 1 1 0 0 1 0 0 1 0 0 0 0 0 0 0 1 1 1 0 0 0 0 0 0 1\n",
            " 1 0 0 1 0 0 1 0 1 1 1 0 0 1 1 1 0 1 0 1 0 1 0 0 0 0 1 0]\n"
          ]
        }
      ]
    },
    {
      "cell_type": "code",
      "source": [
        "from sklearn.model_selection import train_test_split\n",
        "x_train, x_test, y_train, y_test = train_test_split(x,y,test_size=0.25,random_state=0)"
      ],
      "metadata": {
        "id": "dOzUXUEjhX4r"
      },
      "execution_count": 99,
      "outputs": []
    },
    {
      "cell_type": "code",
      "source": [
        "print(x_train)"
      ],
      "metadata": {
        "colab": {
          "base_uri": "https://localhost:8080/"
        },
        "id": "Pm0QBpGXhnek",
        "outputId": "7b60b6d0-5698-4e65-b2ce-0d8a09988a25"
      },
      "execution_count": 100,
      "outputs": [
        {
          "output_type": "stream",
          "name": "stdout",
          "text": [
            "[[62  0]\n",
            " [58 36]\n",
            " [80  0]\n",
            " ...\n",
            " [65 22]\n",
            " [74  0]\n",
            " [82  0]]\n"
          ]
        }
      ]
    },
    {
      "cell_type": "code",
      "source": [
        "print(x_test)"
      ],
      "metadata": {
        "colab": {
          "base_uri": "https://localhost:8080/"
        },
        "id": "KN2kPM7Chqlt",
        "outputId": "a4633412-9a54-49e0-ee2a-2c4b314f5a33"
      },
      "execution_count": 101,
      "outputs": [
        {
          "output_type": "stream",
          "name": "stdout",
          "text": [
            "[[ 76  43]\n",
            " [ 74  30]\n",
            " [ 62   0]\n",
            " [ 72  19]\n",
            " [ 65   0]\n",
            " [ 72  18]\n",
            " [ 78  34]\n",
            " [ 86  27]\n",
            " [ 58  24]\n",
            " [ 72  32]\n",
            " [ 76  36]\n",
            " [ 76  27]\n",
            " [ 74   0]\n",
            " [ 52  22]\n",
            " [ 72  23]\n",
            " [ 68  20]\n",
            " [ 72  42]\n",
            " [ 50  10]\n",
            " [ 86  31]\n",
            " [ 54  28]\n",
            " [ 82  32]\n",
            " [ 80   0]\n",
            " [  0  23]\n",
            " [ 82  28]\n",
            " [ 66  15]\n",
            " [ 60  32]\n",
            " [ 76   0]\n",
            " [ 88  37]\n",
            " [ 66  22]\n",
            " [ 68   0]\n",
            " [ 74  26]\n",
            " [ 64  46]\n",
            " [ 86  17]\n",
            " [ 52  43]\n",
            " [ 54  13]\n",
            " [ 64   0]\n",
            " [ 84  35]\n",
            " [ 90  19]\n",
            " [ 44  47]\n",
            " [ 64  25]\n",
            " [ 64  18]\n",
            " [ 78   0]\n",
            " [ 60  19]\n",
            " [ 70  31]\n",
            " [ 70  45]\n",
            " [ 75  23]\n",
            " [ 62  32]\n",
            " [ 64  29]\n",
            " [ 64  44]\n",
            " [ 80   0]\n",
            " [ 68   0]\n",
            " [ 52  26]\n",
            " [ 70  40]\n",
            " [ 90  41]\n",
            " [ 68  32]\n",
            " [ 48  20]\n",
            " [ 66  29]\n",
            " [ 98   0]\n",
            " [ 70   0]\n",
            " [  0   0]\n",
            " [106  46]\n",
            " [ 74  25]\n",
            " [ 68   0]\n",
            " [  0   0]\n",
            " [ 74   0]\n",
            " [ 74   0]\n",
            " [ 88   0]\n",
            " [ 78   0]\n",
            " [ 52   0]\n",
            " [ 78  25]\n",
            " [ 64   0]\n",
            " [  0   0]\n",
            " [ 68  32]\n",
            " [ 94   0]\n",
            " [ 72   0]\n",
            " [ 84   0]\n",
            " [106  23]\n",
            " [ 74  32]\n",
            " [ 86  19]\n",
            " [ 70  40]\n",
            " [ 76   0]\n",
            " [ 74  50]\n",
            " [ 74  29]\n",
            " [ 64  19]\n",
            " [ 60  32]\n",
            " [ 80   0]\n",
            " [ 54   0]\n",
            " [ 30  38]\n",
            " [ 84  21]\n",
            " [ 70  27]\n",
            " [ 74  36]\n",
            " [ 84   0]\n",
            " [ 50  10]\n",
            " [ 80  11]\n",
            " [ 82  43]\n",
            " [ 58  31]\n",
            " [ 76  32]\n",
            " [ 82  39]\n",
            " [ 72  47]\n",
            " [ 72   0]\n",
            " [ 80  34]\n",
            " [ 52  15]\n",
            " [ 92   0]\n",
            " [ 66  13]\n",
            " [ 64  42]\n",
            " [ 70   0]\n",
            " [ 86  27]\n",
            " [ 70  38]\n",
            " [ 80  11]\n",
            " [ 64   0]\n",
            " [ 58  26]\n",
            " [ 82  32]\n",
            " [ 66   0]\n",
            " [ 98  41]\n",
            " [ 84  33]\n",
            " [ 86   0]\n",
            " [ 62  10]\n",
            " [ 50  16]\n",
            " [ 86  19]\n",
            " [ 80  37]\n",
            " [ 78  40]\n",
            " [108  37]\n",
            " [ 66  39]\n",
            " [ 78  17]\n",
            " [ 74  22]\n",
            " [ 60   0]\n",
            " [ 88  11]\n",
            " [ 74  29]\n",
            " [ 54   0]\n",
            " [ 88   0]\n",
            " [ 64  35]\n",
            " [  0   0]\n",
            " [ 60  22]\n",
            " [ 68  49]\n",
            " [ 64  25]\n",
            " [ 76  37]\n",
            " [ 50  19]\n",
            " [ 66  32]\n",
            " [  0   0]\n",
            " [ 54   0]\n",
            " [ 58  16]\n",
            " [ 72  29]\n",
            " [ 58   0]\n",
            " [ 78   0]\n",
            " [ 66   0]\n",
            " [ 58  10]\n",
            " [ 66  21]\n",
            " [ 66  30]\n",
            " [ 68  21]\n",
            " [ 80  45]\n",
            " [ 58  22]\n",
            " [ 86   0]\n",
            " [ 74  15]\n",
            " [ 72  30]\n",
            " [ 78  29]\n",
            " [ 60  23]\n",
            " [ 90  33]\n",
            " [ 56  21]\n",
            " [  0   0]\n",
            " [  0   0]\n",
            " [ 68  23]\n",
            " [ 78   0]\n",
            " [ 48  18]\n",
            " [ 60  18]\n",
            " [ 70   0]\n",
            " [  0   0]\n",
            " [ 60   0]\n",
            " [ 60   0]\n",
            " [ 58   0]\n",
            " [ 90   0]\n",
            " [ 24  19]\n",
            " [ 70  40]\n",
            " [ 74   0]\n",
            " [ 74   0]\n",
            " [ 80  15]\n",
            " [ 70  32]\n",
            " [ 72   0]\n",
            " [ 82  41]\n",
            " [ 76  20]\n",
            " [ 64  24]\n",
            " [ 82   0]\n",
            " [114   0]\n",
            " [ 65  28]\n",
            " [ 66  39]\n",
            " [ 70   0]\n",
            " [ 62   0]\n",
            " [  0   0]\n",
            " [ 72   0]\n",
            " [ 58  33]\n",
            " [ 60   8]\n",
            " [ 78   0]\n",
            " [ 78  30]]\n"
          ]
        }
      ]
    },
    {
      "cell_type": "code",
      "source": [
        "print(y_train)"
      ],
      "metadata": {
        "colab": {
          "base_uri": "https://localhost:8080/"
        },
        "id": "EKMdbC1ThuIR",
        "outputId": "64f3a2d3-dd22-4ada-98a7-c07cc22d66f7"
      },
      "execution_count": 102,
      "outputs": [
        {
          "output_type": "stream",
          "name": "stdout",
          "text": [
            "[0 0 0 1 1 0 0 0 0 0 0 0 1 0 0 0 1 0 1 0 0 0 0 0 1 1 0 0 1 0 1 1 0 0 1 1 0\n",
            " 0 0 1 0 0 1 1 0 1 0 1 0 1 0 1 0 1 0 0 0 0 0 1 0 1 0 1 0 0 0 0 0 0 0 0 1 0\n",
            " 1 1 1 1 0 0 0 0 1 1 0 1 0 0 1 1 0 0 0 0 0 0 0 1 1 0 0 0 0 1 1 0 0 0 0 1 0\n",
            " 0 1 1 0 1 1 0 0 0 0 0 0 0 0 1 0 1 0 0 0 1 0 0 0 0 0 1 1 1 1 0 0 0 0 0 1 0\n",
            " 0 0 0 1 1 0 0 0 1 1 1 1 0 1 0 1 1 0 0 0 1 0 0 0 1 0 1 1 0 1 1 0 0 0 0 1 1\n",
            " 0 0 1 1 0 0 0 0 0 1 0 1 0 0 0 1 0 1 0 1 0 1 1 1 1 0 1 1 0 0 1 1 0 0 1 1 0\n",
            " 0 0 1 1 0 0 1 0 1 0 0 1 0 1 0 0 0 1 0 0 0 0 0 1 0 1 0 0 1 0 0 1 0 0 0 0 0\n",
            " 0 0 0 0 1 1 0 1 0 1 1 1 0 1 0 0 1 1 0 0 0 1 0 0 1 0 1 0 0 0 0 1 0 0 0 1 1\n",
            " 0 1 0 1 1 0 1 0 1 0 0 0 1 0 1 0 1 0 0 1 1 0 0 0 0 1 0 0 1 0 1 1 0 0 1 1 0\n",
            " 0 0 0 1 0 0 0 0 1 0 1 0 0 0 0 1 0 0 0 1 0 0 0 1 1 0 0 0 0 0 1 0 0 1 0 1 1\n",
            " 0 1 0 0 0 0 1 1 0 0 0 1 0 0 0 0 1 0 1 0 0 0 1 0 1 1 1 1 0 1 0 0 0 0 0 1 0\n",
            " 1 0 1 0 0 0 1 1 0 0 1 1 0 1 0 0 1 0 0 1 0 0 0 0 0 1 1 1 1 0 0 1 1 0 0 0 1\n",
            " 0 0 0 1 0 0 0 0 0 0 1 1 0 0 0 0 0 0 1 0 0 0 0 0 0 1 1 1 0 1 0 0 0 0 0 0 1\n",
            " 1 0 1 1 0 0 1 0 0 0 1 0 1 0 1 0 1 0 0 0 0 1 0 0 1 0 0 0 0 0 1 0 1 0 0 0 0\n",
            " 0 1 0 0 0 0 1 0 1 0 0 0 1 1 0 0 0 0 0 0 0 0 0 0 0 1 1 1 1 0 1 1 1 0 0 1 0\n",
            " 0 0 0 0 1 0 0 0 1 0 1 0 0 1 1 0 0 1 0 0 0]\n"
          ]
        }
      ]
    },
    {
      "cell_type": "code",
      "source": [
        "print(y_test)"
      ],
      "metadata": {
        "colab": {
          "base_uri": "https://localhost:8080/"
        },
        "id": "mnrsB468hwRe",
        "outputId": "dcaeee29-d477-4d95-e95c-877cabe2f504"
      },
      "execution_count": 103,
      "outputs": [
        {
          "output_type": "stream",
          "name": "stdout",
          "text": [
            "[1 0 0 1 0 0 1 1 0 0 1 1 0 0 0 0 1 0 0 0 1 1 0 0 0 0 0 0 0 0 0 0 0 0 0 1 1\n",
            " 0 0 0 0 0 0 1 1 0 0 1 1 1 0 0 1 0 0 0 0 1 1 1 1 0 0 1 1 1 1 0 0 0 0 0 0 0\n",
            " 1 0 0 0 0 0 0 0 0 0 0 0 1 0 1 0 0 0 0 0 0 0 1 0 1 1 0 0 0 0 0 1 0 0 0 1 0\n",
            " 1 1 1 1 1 0 0 0 1 0 0 0 0 0 0 0 1 0 0 0 0 0 1 0 1 0 1 1 0 0 0 0 0 1 0 0 0\n",
            " 0 1 0 1 0 0 1 0 0 0 1 1 1 1 0 0 0 1 0 0 0 0 0 0 1 1 0 0 0 0 0 0 1 1 0 1 1\n",
            " 0 1 1 1 0 0 0]\n"
          ]
        }
      ]
    },
    {
      "cell_type": "code",
      "source": [
        "from sklearn.preprocessing import StandardScaler\n",
        "sc = StandardScaler()\n",
        "x_train = sc.fit_transform(x_train)\n",
        "x_test = sc.transform(x_test)"
      ],
      "metadata": {
        "id": "cL2apJZth7Go"
      },
      "execution_count": 104,
      "outputs": []
    },
    {
      "cell_type": "code",
      "source": [
        "print(x_train)"
      ],
      "metadata": {
        "colab": {
          "base_uri": "https://localhost:8080/"
        },
        "id": "8b5u4bgaiKWh",
        "outputId": "a81a2f55-0b82-44b4-835f-11a42bfa4824"
      },
      "execution_count": 105,
      "outputs": [
        {
          "output_type": "stream",
          "name": "stdout",
          "text": [
            "[[-0.40451932 -1.31921491]\n",
            " [-0.61509602  0.9287299 ]\n",
            " [ 0.54307587 -1.31921491]\n",
            " ...\n",
            " [-0.24658679  0.05452914]\n",
            " [ 0.2272108  -1.31921491]\n",
            " [ 0.64836422 -1.31921491]]\n"
          ]
        }
      ]
    },
    {
      "cell_type": "code",
      "source": [
        "print(x_test)"
      ],
      "metadata": {
        "colab": {
          "base_uri": "https://localhost:8080/"
        },
        "id": "F6oQAxoiiNKE",
        "outputId": "731489e3-7178-4f80-d86e-326ae94bdbf9"
      },
      "execution_count": 106,
      "outputs": [
        {
          "output_type": "stream",
          "name": "stdout",
          "text": [
            "[[ 0.33249916  1.36583027]\n",
            " [ 0.2272108   0.55407243]\n",
            " [-0.40451932 -1.31921491]\n",
            " [ 0.12192245 -0.13279959]\n",
            " [-0.24658679 -1.31921491]\n",
            " [ 0.12192245 -0.19524251]\n",
            " [ 0.43778751  0.80384407]\n",
            " [ 0.85894093  0.3667437 ]\n",
            " [-0.61509602  0.17941496]\n",
            " [ 0.12192245  0.67895825]\n",
            " [ 0.33249916  0.9287299 ]\n",
            " [ 0.33249916  0.3667437 ]\n",
            " [ 0.2272108  -1.31921491]\n",
            " [-0.93096108  0.05452914]\n",
            " [ 0.12192245  0.11697205]\n",
            " [-0.08865426 -0.07035668]\n",
            " [ 0.12192245  1.30338736]\n",
            " [-1.03624944 -0.69478579]\n",
            " [ 0.85894093  0.61651534]\n",
            " [-0.82567273  0.42918661]\n",
            " [ 0.64836422  0.67895825]\n",
            " [ 0.54307587 -1.31921491]\n",
            " [-3.66845828  0.11697205]\n",
            " [ 0.64836422  0.42918661]\n",
            " [-0.19394261 -0.38257124]\n",
            " [-0.50980767  0.67895825]\n",
            " [ 0.33249916 -1.31921491]\n",
            " [ 0.96422928  0.99117281]\n",
            " [-0.19394261  0.05452914]\n",
            " [-0.08865426 -1.31921491]\n",
            " [ 0.2272108   0.30430078]\n",
            " [-0.29923096  1.55315901]\n",
            " [ 0.85894093 -0.25768542]\n",
            " [-0.93096108  1.36583027]\n",
            " [-0.82567273 -0.50745706]\n",
            " [-0.29923096 -1.31921491]\n",
            " [ 0.75365257  0.86628699]\n",
            " [ 1.06951763 -0.13279959]\n",
            " [-1.3521145   1.61560192]\n",
            " [-0.29923096  0.24185787]\n",
            " [-0.29923096 -0.19524251]\n",
            " [ 0.43778751 -1.31921491]\n",
            " [-0.50980767 -0.13279959]\n",
            " [ 0.0166341   0.61651534]\n",
            " [ 0.0166341   1.4907161 ]\n",
            " [ 0.27985498  0.11697205]\n",
            " [-0.40451932  0.67895825]\n",
            " [-0.29923096  0.49162952]\n",
            " [-0.29923096  1.42827319]\n",
            " [ 0.54307587 -1.31921491]\n",
            " [-0.08865426 -1.31921491]\n",
            " [-0.93096108  0.30430078]\n",
            " [ 0.0166341   1.17850154]\n",
            " [ 1.06951763  1.24094445]\n",
            " [-0.08865426  0.67895825]\n",
            " [-1.14153779 -0.07035668]\n",
            " [-0.19394261  0.49162952]\n",
            " [ 1.49067105 -1.31921491]\n",
            " [ 0.0166341  -1.31921491]\n",
            " [-3.66845828 -1.31921491]\n",
            " [ 1.91182446  1.55315901]\n",
            " [ 0.2272108   0.24185787]\n",
            " [-0.08865426 -1.31921491]\n",
            " [-3.66845828 -1.31921491]\n",
            " [ 0.2272108  -1.31921491]\n",
            " [ 0.2272108  -1.31921491]\n",
            " [ 0.96422928 -1.31921491]\n",
            " [ 0.43778751 -1.31921491]\n",
            " [-0.93096108 -1.31921491]\n",
            " [ 0.43778751  0.24185787]\n",
            " [-0.29923096 -1.31921491]\n",
            " [-3.66845828 -1.31921491]\n",
            " [-0.08865426  0.67895825]\n",
            " [ 1.28009434 -1.31921491]\n",
            " [ 0.12192245 -1.31921491]\n",
            " [ 0.75365257 -1.31921491]\n",
            " [ 1.91182446  0.11697205]\n",
            " [ 0.2272108   0.67895825]\n",
            " [ 0.85894093 -0.13279959]\n",
            " [ 0.0166341   1.17850154]\n",
            " [ 0.33249916 -1.31921491]\n",
            " [ 0.2272108   1.80293065]\n",
            " [ 0.2272108   0.49162952]\n",
            " [-0.29923096 -0.13279959]\n",
            " [-0.50980767  0.67895825]\n",
            " [ 0.54307587 -1.31921491]\n",
            " [-0.82567273 -1.31921491]\n",
            " [-2.08913297  1.05361572]\n",
            " [ 0.75365257 -0.00791377]\n",
            " [ 0.0166341   0.3667437 ]\n",
            " [ 0.2272108   0.9287299 ]\n",
            " [ 0.75365257 -1.31921491]\n",
            " [-1.03624944 -0.69478579]\n",
            " [ 0.54307587 -0.63234288]\n",
            " [ 0.64836422  1.36583027]\n",
            " [-0.61509602  0.61651534]\n",
            " [ 0.33249916  0.67895825]\n",
            " [ 0.64836422  1.11605863]\n",
            " [ 0.12192245  1.61560192]\n",
            " [ 0.12192245 -1.31921491]\n",
            " [ 0.54307587  0.80384407]\n",
            " [-0.93096108 -0.38257124]\n",
            " [ 1.17480599 -1.31921491]\n",
            " [-0.19394261 -0.50745706]\n",
            " [-0.29923096  1.30338736]\n",
            " [ 0.0166341  -1.31921491]\n",
            " [ 0.85894093  0.3667437 ]\n",
            " [ 0.0166341   1.05361572]\n",
            " [ 0.54307587 -0.63234288]\n",
            " [-0.29923096 -1.31921491]\n",
            " [-0.61509602  0.30430078]\n",
            " [ 0.64836422  0.67895825]\n",
            " [-0.19394261 -1.31921491]\n",
            " [ 1.49067105  1.24094445]\n",
            " [ 0.75365257  0.74140116]\n",
            " [ 0.85894093 -1.31921491]\n",
            " [-0.40451932 -0.69478579]\n",
            " [-1.03624944 -0.32012833]\n",
            " [ 0.85894093 -0.13279959]\n",
            " [ 0.54307587  0.99117281]\n",
            " [ 0.43778751  1.17850154]\n",
            " [ 2.01711282  0.99117281]\n",
            " [-0.19394261  1.11605863]\n",
            " [ 0.43778751 -0.25768542]\n",
            " [ 0.2272108   0.05452914]\n",
            " [-0.50980767 -1.31921491]\n",
            " [ 0.96422928 -0.63234288]\n",
            " [ 0.2272108   0.49162952]\n",
            " [-0.82567273 -1.31921491]\n",
            " [ 0.96422928 -1.31921491]\n",
            " [-0.29923096  0.86628699]\n",
            " [-3.66845828 -1.31921491]\n",
            " [-0.50980767  0.05452914]\n",
            " [-0.08865426  1.74048774]\n",
            " [-0.29923096  0.24185787]\n",
            " [ 0.33249916  0.99117281]\n",
            " [-1.03624944 -0.13279959]\n",
            " [-0.19394261  0.67895825]\n",
            " [-3.66845828 -1.31921491]\n",
            " [-0.82567273 -1.31921491]\n",
            " [-0.61509602 -0.32012833]\n",
            " [ 0.12192245  0.49162952]\n",
            " [-0.61509602 -1.31921491]\n",
            " [ 0.43778751 -1.31921491]\n",
            " [-0.19394261 -1.31921491]\n",
            " [-0.61509602 -0.69478579]\n",
            " [-0.19394261 -0.00791377]\n",
            " [-0.19394261  0.55407243]\n",
            " [-0.08865426 -0.00791377]\n",
            " [ 0.54307587  1.4907161 ]\n",
            " [-0.61509602  0.05452914]\n",
            " [ 0.85894093 -1.31921491]\n",
            " [ 0.2272108  -0.38257124]\n",
            " [ 0.12192245  0.55407243]\n",
            " [ 0.43778751  0.49162952]\n",
            " [-0.50980767  0.11697205]\n",
            " [ 1.06951763  0.74140116]\n",
            " [-0.72038438 -0.00791377]\n",
            " [-3.66845828 -1.31921491]\n",
            " [-3.66845828 -1.31921491]\n",
            " [-0.08865426  0.11697205]\n",
            " [ 0.43778751 -1.31921491]\n",
            " [-1.14153779 -0.19524251]\n",
            " [-0.50980767 -0.19524251]\n",
            " [ 0.0166341  -1.31921491]\n",
            " [-3.66845828 -1.31921491]\n",
            " [-0.50980767 -1.31921491]\n",
            " [-0.50980767 -1.31921491]\n",
            " [-0.61509602 -1.31921491]\n",
            " [ 1.06951763 -1.31921491]\n",
            " [-2.40499803 -0.13279959]\n",
            " [ 0.0166341   1.17850154]\n",
            " [ 0.2272108  -1.31921491]\n",
            " [ 0.2272108  -1.31921491]\n",
            " [ 0.54307587 -0.38257124]\n",
            " [ 0.0166341   0.67895825]\n",
            " [ 0.12192245 -1.31921491]\n",
            " [ 0.64836422  1.24094445]\n",
            " [ 0.33249916 -0.07035668]\n",
            " [-0.29923096  0.17941496]\n",
            " [ 0.64836422 -1.31921491]\n",
            " [ 2.33297788 -1.31921491]\n",
            " [-0.24658679  0.42918661]\n",
            " [-0.19394261  1.11605863]\n",
            " [ 0.0166341  -1.31921491]\n",
            " [-0.40451932 -1.31921491]\n",
            " [-3.66845828 -1.31921491]\n",
            " [ 0.12192245 -1.31921491]\n",
            " [-0.61509602  0.74140116]\n",
            " [-0.50980767 -0.81967162]\n",
            " [ 0.43778751 -1.31921491]\n",
            " [ 0.43778751  0.55407243]]\n"
          ]
        }
      ]
    },
    {
      "cell_type": "code",
      "source": [
        "from sklearn.naive_bayes import GaussianNB\n",
        "classifier = GaussianNB()\n",
        "classifier.fit(x_train, y_train)"
      ],
      "metadata": {
        "colab": {
          "base_uri": "https://localhost:8080/",
          "height": 75
        },
        "id": "EKWkTH5piReg",
        "outputId": "2fe5b7df-8cbd-49e6-e166-840c0fadf3f0"
      },
      "execution_count": 107,
      "outputs": [
        {
          "output_type": "execute_result",
          "data": {
            "text/plain": [
              "GaussianNB()"
            ],
            "text/html": [
              "<style>#sk-container-id-4 {color: black;background-color: white;}#sk-container-id-4 pre{padding: 0;}#sk-container-id-4 div.sk-toggleable {background-color: white;}#sk-container-id-4 label.sk-toggleable__label {cursor: pointer;display: block;width: 100%;margin-bottom: 0;padding: 0.3em;box-sizing: border-box;text-align: center;}#sk-container-id-4 label.sk-toggleable__label-arrow:before {content: \"▸\";float: left;margin-right: 0.25em;color: #696969;}#sk-container-id-4 label.sk-toggleable__label-arrow:hover:before {color: black;}#sk-container-id-4 div.sk-estimator:hover label.sk-toggleable__label-arrow:before {color: black;}#sk-container-id-4 div.sk-toggleable__content {max-height: 0;max-width: 0;overflow: hidden;text-align: left;background-color: #f0f8ff;}#sk-container-id-4 div.sk-toggleable__content pre {margin: 0.2em;color: black;border-radius: 0.25em;background-color: #f0f8ff;}#sk-container-id-4 input.sk-toggleable__control:checked~div.sk-toggleable__content {max-height: 200px;max-width: 100%;overflow: auto;}#sk-container-id-4 input.sk-toggleable__control:checked~label.sk-toggleable__label-arrow:before {content: \"▾\";}#sk-container-id-4 div.sk-estimator input.sk-toggleable__control:checked~label.sk-toggleable__label {background-color: #d4ebff;}#sk-container-id-4 div.sk-label input.sk-toggleable__control:checked~label.sk-toggleable__label {background-color: #d4ebff;}#sk-container-id-4 input.sk-hidden--visually {border: 0;clip: rect(1px 1px 1px 1px);clip: rect(1px, 1px, 1px, 1px);height: 1px;margin: -1px;overflow: hidden;padding: 0;position: absolute;width: 1px;}#sk-container-id-4 div.sk-estimator {font-family: monospace;background-color: #f0f8ff;border: 1px dotted black;border-radius: 0.25em;box-sizing: border-box;margin-bottom: 0.5em;}#sk-container-id-4 div.sk-estimator:hover {background-color: #d4ebff;}#sk-container-id-4 div.sk-parallel-item::after {content: \"\";width: 100%;border-bottom: 1px solid gray;flex-grow: 1;}#sk-container-id-4 div.sk-label:hover label.sk-toggleable__label {background-color: #d4ebff;}#sk-container-id-4 div.sk-serial::before {content: \"\";position: absolute;border-left: 1px solid gray;box-sizing: border-box;top: 0;bottom: 0;left: 50%;z-index: 0;}#sk-container-id-4 div.sk-serial {display: flex;flex-direction: column;align-items: center;background-color: white;padding-right: 0.2em;padding-left: 0.2em;position: relative;}#sk-container-id-4 div.sk-item {position: relative;z-index: 1;}#sk-container-id-4 div.sk-parallel {display: flex;align-items: stretch;justify-content: center;background-color: white;position: relative;}#sk-container-id-4 div.sk-item::before, #sk-container-id-4 div.sk-parallel-item::before {content: \"\";position: absolute;border-left: 1px solid gray;box-sizing: border-box;top: 0;bottom: 0;left: 50%;z-index: -1;}#sk-container-id-4 div.sk-parallel-item {display: flex;flex-direction: column;z-index: 1;position: relative;background-color: white;}#sk-container-id-4 div.sk-parallel-item:first-child::after {align-self: flex-end;width: 50%;}#sk-container-id-4 div.sk-parallel-item:last-child::after {align-self: flex-start;width: 50%;}#sk-container-id-4 div.sk-parallel-item:only-child::after {width: 0;}#sk-container-id-4 div.sk-dashed-wrapped {border: 1px dashed gray;margin: 0 0.4em 0.5em 0.4em;box-sizing: border-box;padding-bottom: 0.4em;background-color: white;}#sk-container-id-4 div.sk-label label {font-family: monospace;font-weight: bold;display: inline-block;line-height: 1.2em;}#sk-container-id-4 div.sk-label-container {text-align: center;}#sk-container-id-4 div.sk-container {/* jupyter's `normalize.less` sets `[hidden] { display: none; }` but bootstrap.min.css set `[hidden] { display: none !important; }` so we also need the `!important` here to be able to override the default hidden behavior on the sphinx rendered scikit-learn.org. See: https://github.com/scikit-learn/scikit-learn/issues/21755 */display: inline-block !important;position: relative;}#sk-container-id-4 div.sk-text-repr-fallback {display: none;}</style><div id=\"sk-container-id-4\" class=\"sk-top-container\"><div class=\"sk-text-repr-fallback\"><pre>GaussianNB()</pre><b>In a Jupyter environment, please rerun this cell to show the HTML representation or trust the notebook. <br />On GitHub, the HTML representation is unable to render, please try loading this page with nbviewer.org.</b></div><div class=\"sk-container\" hidden><div class=\"sk-item\"><div class=\"sk-estimator sk-toggleable\"><input class=\"sk-toggleable__control sk-hidden--visually\" id=\"sk-estimator-id-4\" type=\"checkbox\" checked><label for=\"sk-estimator-id-4\" class=\"sk-toggleable__label sk-toggleable__label-arrow\">GaussianNB</label><div class=\"sk-toggleable__content\"><pre>GaussianNB()</pre></div></div></div></div></div>"
            ]
          },
          "metadata": {},
          "execution_count": 107
        }
      ]
    },
    {
      "cell_type": "code",
      "source": [
        "y_pred = classifier.predict(x_test)"
      ],
      "metadata": {
        "id": "uUr3RWdlifVn"
      },
      "execution_count": 108,
      "outputs": []
    },
    {
      "cell_type": "code",
      "source": [
        "from sklearn.metrics import confusion_matrix\n",
        "cm = confusion_matrix(y_test, y_pred)\n",
        "print(cm)"
      ],
      "metadata": {
        "colab": {
          "base_uri": "https://localhost:8080/"
        },
        "id": "Y3yNEYDwi3qQ",
        "outputId": "15350484-5dae-4be1-d777-60c711d0e712"
      },
      "execution_count": 109,
      "outputs": [
        {
          "output_type": "stream",
          "name": "stdout",
          "text": [
            "[[128   2]\n",
            " [ 60   2]]\n"
          ]
        }
      ]
    },
    {
      "cell_type": "code",
      "source": [
        "from matplotlib.colors import ListedColormap\n",
        "x_set, y_set = x_train, y_train\n",
        "x1, x2 = np.meshgrid(np.arange(start = x_set[:, 0].min()-1, stop = x_set[:, 0].max() + 1, step=0.01),\n",
        "                     np.arange(start = x_set[:, 1].min()-1, stop = x_set[:, 1].max() + 1, step=0.01))\n",
        "plt.contourf(x1,x2, classifier.predict(np.array([x1.ravel(), x2.ravel()]).T).reshape(x1.shape),\n",
        "             alpha = 0.75, cmap = ListedColormap(('red', 'green')))\n",
        "plt.xlim(x1.min(), x1.max())\n",
        "plt.ylim(x2.min(), x2.max())\n",
        "for i, j in enumerate (np.unique(y_set)):\n",
        "  plt.scatter(x_set[y_set == j, 0], x_set[y_set == j, 1],\n",
        "              c = ListedColormap(('red', 'green'))(i), label = j)\n",
        "plt.title('Klasifikasi Data dengan Algoritma Naive Bayes')\n",
        "plt.xlabel('Age')\n",
        "plt.ylabel('Glucose')\n",
        "plt.legend()\n",
        "plt.show()"
      ],
      "metadata": {
        "colab": {
          "base_uri": "https://localhost:8080/",
          "height": 529
        },
        "id": "x-h_U5bUjIQr",
        "outputId": "5f7e89c1-70d2-4b3f-ac75-1066df90fe6f"
      },
      "execution_count": 110,
      "outputs": [
        {
          "output_type": "stream",
          "name": "stderr",
          "text": [
            "<ipython-input-110-f67b6ecfbe3a>:10: UserWarning: *c* argument looks like a single numeric RGB or RGBA sequence, which should be avoided as value-mapping will have precedence in case its length matches with *x* & *y*.  Please use the *color* keyword-argument or provide a 2D array with a single row if you intend to specify the same RGB or RGBA value for all points.\n",
            "  plt.scatter(x_set[y_set == j, 0], x_set[y_set == j, 1],\n"
          ]
        },
        {
          "output_type": "display_data",
          "data": {
            "text/plain": [
              "<Figure size 640x480 with 1 Axes>"
            ],
            "image/png": "[encoded data removed]"
          },
          "metadata": {}
        }
      ]
    }
  ]
}